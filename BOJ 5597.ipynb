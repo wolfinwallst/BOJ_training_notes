{
 "cells": [
  {
   "cell_type": "code",
   "execution_count": null,
   "metadata": {},
   "outputs": [],
   "source": [
    "# 5597 과제 안 내신 분..?_1D 배열\n",
    "import sys\n",
    "input = sys.stdin.readline\n",
    "\n",
    "arr = []\n",
    "for _ in range(28):\n",
    "    arr.append(int(input()))\n",
    "\n",
    "for i in range(1, 31):\n",
    "    if i not in arr:\n",
    "        print(i)\n",
    "# # # # # # # # # # # # # # # # # # # # # # # # # # # # # # # # \n",
    "# 5597 과제 안 내신 분..?_1D 배열\n",
    "import sys\n",
    "input = sys.stdin.readline\n",
    "\n",
    "arr = [0] * 31\n",
    "for _ in range(28):\n",
    "    n = int(input())\n",
    "    arr[n] = 1\n",
    "\n",
    "for i in range(1, 31):\n",
    "    #if arr[i] == 0: # 대체 가능\n",
    "    if not arr[i]:\n",
    "        print(i)\n",
    "# # # # # # # # # # # # # # # # # # # # # # # # # # # # # # # # \n",
    "# 5597 과제 안 내신 분..?_1D 배열\n",
    "import sys\n",
    "input = sys.stdin.readline\n",
    "\n",
    "arr = [i for i in range(1, 31)]\n",
    "#arr = list(range(1, 31))\n",
    "for _ in range(28):\n",
    "    n = int(input())\n",
    "    arr.remove(n)\n",
    "\n",
    "print(arr[0])\n",
    "print(arr[1])\n",
    "\"\"\" 대체 가능\n",
    "print(min(arr))\n",
    "print(max(arr))\n",
    "\n",
    "for x in arr:\n",
    "    print(x)\n",
    "\"\"\""
   ]
  }
 ],
 "metadata": {
  "kernelspec": {
   "display_name": "Python 3",
   "language": "python",
   "name": "python3"
  },
  "language_info": {
   "name": "python",
   "version": "3.13.1"
  }
 },
 "nbformat": 4,
 "nbformat_minor": 2
}
