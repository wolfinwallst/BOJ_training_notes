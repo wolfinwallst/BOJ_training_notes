{
 "cells": [
  {
   "cell_type": "code",
   "execution_count": null,
   "metadata": {},
   "outputs": [],
   "source": [
    "# 10871 X보다 작은 수_1D 배열\n",
    "import sys\n",
    "input = sys.stdin.readline\n",
    "\n",
    "n, x = map(int, input().split())\n",
    "arr = list(map(int, input().split()))\n",
    "\n",
    "for a in arr:\n",
    "    if a < x:\n",
    "        print(a, end=\" \")\n",
    "# # # # # # # # # # # # # # # # # # # # # # # # # # # # # # # # \n",
    "# 10871 X보다 작은 수_1D 배열\n",
    "import sys\n",
    "input = sys.stdin.readline\n",
    "\n",
    "n, x = map(int, input().split())\n",
    "arr = list(map(int, input().split()))\n",
    "\n",
    "for i in range(n):\n",
    "    if arr[i] < x:\n",
    "        print(arr[i], end=\" \")\n",
    "# # # # # # # # # # # # # # # # # # # # # # # # # # # # # # # # "
   ]
  }
 ],
 "metadata": {
  "kernelspec": {
   "display_name": "Python 3",
   "language": "python",
   "name": "python3"
  },
  "language_info": {
   "codemirror_mode": {
    "name": "ipython",
    "version": 3
   },
   "file_extension": ".py",
   "mimetype": "text/x-python",
   "name": "python",
   "nbconvert_exporter": "python",
   "pygments_lexer": "ipython3",
   "version": "3.11.9"
  }
 },
 "nbformat": 4,
 "nbformat_minor": 2
}
