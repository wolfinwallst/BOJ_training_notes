{
 "cells": [
  {
   "cell_type": "code",
   "execution_count": null,
   "metadata": {},
   "outputs": [],
   "source": [
    "# 10807 개수 세기_배열\n",
    "import sys\n",
    "input = sys.stdin.readline\n",
    "\n",
    "n  = int(input())\n",
    "n_list = list(map(int, input().split()))\n",
    "v = int(input())\n",
    "\n",
    "print(n_list.count(v))\n",
    "# # # # # # # # # # # # # # # # # # # # # # # # # # # # # # # # \n",
    "# 10807 개수 세기_배열\n",
    "import sys\n",
    "input = sys.stdin.readline\n",
    "\n",
    "n  = int(input())\n",
    "n_list = list(map(int, input().split()))\n",
    "v = int(input())\n",
    "\n",
    "cnt = 0\n",
    "for x in n_list:\n",
    "    if x == v:\n",
    "        cnt += 1\n",
    "\n",
    "print(cnt)\n",
    "# # # # # # # # # # # # # # # # # # # # # # # # # # # # # # # # "
   ]
  }
 ],
 "metadata": {
  "kernelspec": {
   "display_name": "Python 3",
   "language": "python",
   "name": "python3"
  },
  "language_info": {
   "codemirror_mode": {
    "name": "ipython",
    "version": 3
   },
   "file_extension": ".py",
   "mimetype": "text/x-python",
   "name": "python",
   "nbconvert_exporter": "python",
   "pygments_lexer": "ipython3",
   "version": "3.11.9"
  }
 },
 "nbformat": 4,
 "nbformat_minor": 2
}
