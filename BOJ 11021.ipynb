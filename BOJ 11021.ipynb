{
 "cells": [
  {
   "cell_type": "code",
   "execution_count": null,
   "metadata": {},
   "outputs": [],
   "source": [
    "# 11021 A+B-7_반복문\n",
    "import sys\n",
    "input = sys.stdin.readline\n",
    "\n",
    "t = int(input())\n",
    "for i in range(1, t+1):\n",
    "    a, b = map(int, input().split())\n",
    "    print(\"Case #%d: %d\" % (i , a + b))\n",
    "# # # # # # # # # # # # # # # # # # # # # # # # # # # # # # # # \n",
    "# 11021 A+B-7_반복문\n",
    "import sys\n",
    "input = sys.stdin.readline\n",
    "\n",
    "t = int(input())\n",
    "for i in range(1, t+1):\n",
    "    a, b = map(int, input().split())\n",
    "    print(\"Case #\" + str(i) +\":\", a + b)\n",
    "# # # # # # # # # # # # # # # # # # # # # # # # # # # # # # # # \n",
    "import sys\n",
    "\n",
    "t = int(sys.stdin.readline())\n",
    "for i in range(1, t+1):\n",
    "    a, b = map(int, sys.stdin.readline().split())\n",
    "    print(\"Case #%d: %d\" % (i , a + b))\n",
    "    print(\"Case #\" + str(i) +\":\", a + b)"
   ]
  }
 ],
 "metadata": {
  "kernelspec": {
   "display_name": "Python 3",
   "language": "python",
   "name": "python3"
  },
  "language_info": {
   "codemirror_mode": {
    "name": "ipython",
    "version": 3
   },
   "file_extension": ".py",
   "mimetype": "text/x-python",
   "name": "python",
   "nbconvert_exporter": "python",
   "pygments_lexer": "ipython3",
   "version": "3.11.9"
  }
 },
 "nbformat": 4,
 "nbformat_minor": 2
}
