{
 "cells": [
  {
   "cell_type": "code",
   "execution_count": null,
   "metadata": {},
   "outputs": [],
   "source": [
    "# 10810 공 넣기_1D 배열\n",
    "import sys\n",
    "input = sys.stdin.readline\n",
    "\n",
    "n, m = map(int, input().split())\n",
    "arr = [0] * n\n",
    "\n",
    "while(m):\n",
    "    i, j, k = map(int, input().split())\n",
    "\n",
    "    for l in range(i, j + 1):\n",
    "        arr[l - 1] = k\n",
    "    m -= 1\n",
    "\n",
    "for l in range(n):\n",
    "    print(arr[l], end=\" \")\n",
    "\n",
    "# # # # # # # # # # # # # # # # # # # # # # # # # # # # # # # # \n",
    "# 10810 공 넣기_1D 배열\n",
    "import sys\n",
    "input = sys.stdin.readline\n",
    "\n",
    "n, m = map(int, input().split())\n",
    "arr = [0] * n\n",
    "# arr = [0 for _ in range(n)] # 으로 대체 가능\n",
    "\n",
    "for _ in range(m):\n",
    "    i, j, k = map(int, input().split())\n",
    "\n",
    "    for l in range(i, j + 1):\n",
    "        arr[l - 1] = k\n",
    "\n",
    "for l in range(n):\n",
    "    print(arr[l], end=\" \")\n",
    "\n",
    "# # # # # # # # # # # # # # # # # # # # # # # # # # # # # # # # "
   ]
  }
 ],
 "metadata": {
  "kernelspec": {
   "display_name": "Python 3",
   "language": "python",
   "name": "python3"
  },
  "language_info": {
   "codemirror_mode": {
    "name": "ipython",
    "version": 3
   },
   "file_extension": ".py",
   "mimetype": "text/x-python",
   "name": "python",
   "nbconvert_exporter": "python",
   "pygments_lexer": "ipython3",
   "version": "3.11.9"
  }
 },
 "nbformat": 4,
 "nbformat_minor": 2
}
