{
 "cells": [
  {
   "cell_type": "code",
   "execution_count": null,
   "metadata": {},
   "outputs": [],
   "source": [
    "# 2438 별 찍기 - 1_반복문\n",
    "import sys\n",
    "input = sys.stdin.readline\n",
    "\n",
    "n = int(input())\n",
    "for i in range(1, n+1):\n",
    "    print(\"*\" * i)\n",
    "# # # # # # # # # # # # # # # # # # # # # # # # # # # # # # # # \n",
    "# 2438 별 찍기 - 1_반복문\n",
    "import sys\n",
    "input = sys.stdin.readline\n",
    "\n",
    "n = int(input())\n",
    "for i in range(1, n+1):\n",
    "    for _ in range(1, i+1):\n",
    "        print(\"*\", end=\"\")\n",
    "    print()\n",
    "# # # # # # # # # # # # # # # # # # # # # # # # # # # # # # # # \n",
    "# 2438 별 찍기 - 1_반복문\n",
    "import sys\n",
    "input = sys.stdin.readline\n",
    "\n",
    "n = int(input())\n",
    "s = \"\"\n",
    "for i in range(n):\n",
    "    for _ in range(i+1):\n",
    "        s += \"*\"\n",
    "    s += \"\\n\"\n",
    "    \n",
    "print(s)\n",
    "# # # # # # # # # # # # # # # # # # # # # # # # # # # # # # # # \n",
    "\n",
    "\n"
   ]
  }
 ],
 "metadata": {
  "kernelspec": {
   "display_name": "Python 3",
   "language": "python",
   "name": "python3"
  },
  "language_info": {
   "codemirror_mode": {
    "name": "ipython",
    "version": 3
   },
   "file_extension": ".py",
   "mimetype": "text/x-python",
   "name": "python",
   "nbconvert_exporter": "python",
   "pygments_lexer": "ipython3",
   "version": "3.11.9"
  }
 },
 "nbformat": 4,
 "nbformat_minor": 2
}
