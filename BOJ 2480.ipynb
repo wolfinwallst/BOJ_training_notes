{
 "cells": [
  {
   "cell_type": "code",
   "execution_count": 1,
   "metadata": {},
   "outputs": [
    {
     "name": "stdout",
     "output_type": "stream",
     "text": [
      "int\n"
     ]
    }
   ],
   "source": [
    "# 2480 주사위 세개_조건문\n",
    "a, b, c = map(int, input().split())\n",
    "prize = 0\n",
    "\n",
    "if a==b and b==c:\n",
    "    prize = 10000 + a * 1000\n",
    "elif a==b or a==c:\n",
    "    prize = 1000 + a * 100\n",
    "elif b==c:\n",
    "    prize = 1000 + b * 100\n",
    "else:\n",
    "    prize = max(a, b, c) * 100\n",
    "\n",
    "print(prize)"
   ]
  }
 ],
 "metadata": {
  "kernelspec": {
   "display_name": "Python 3",
   "language": "python",
   "name": "python3"
  },
  "language_info": {
   "codemirror_mode": {
    "name": "ipython",
    "version": 3
   },
   "file_extension": ".py",
   "mimetype": "text/x-python",
   "name": "python",
   "nbconvert_exporter": "python",
   "pygments_lexer": "ipython3",
   "version": "3.11.9"
  }
 },
 "nbformat": 4,
 "nbformat_minor": 2
}
