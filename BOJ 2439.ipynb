{
 "cells": [
  {
   "cell_type": "code",
   "execution_count": null,
   "metadata": {},
   "outputs": [],
   "source": [
    "# 2439 별 찍기 - 2_반복문\n",
    "import sys\n",
    "input = sys.stdin.readline\n",
    "\n",
    "n = int(input())\n",
    "for i in range(1, n+1):\n",
    "    print(\" \" * (n-i), \"*\" * i)\n",
    "# # # # # # # # # # # # # # # # # # # # # # # # # # # # # # # # \n",
    "# 2439 별 찍기 - 2_반복문\n",
    "import sys\n",
    "input = sys.stdin.readline\n",
    "\n",
    "n = int(input())\n",
    "for i in range(1, n+1):\n",
    "    print(\" \" * (n-i) + \"*\" * i)\n",
    "    # print(\" \" * (n-i), \"*\" * i) # 이렇게 하면 ,에서 띄어쓰기가 되서 틀림\n",
    "# # # # # # # # # # # # # # # # # # # # # # # # # # # # # # # # \n",
    "# 2439 별 찍기 - 2_반복문\n",
    "import sys\n",
    "input = sys.stdin.readline\n",
    "\n",
    "n = int(input())\n",
    "for i in range(1, n+1):\n",
    "    s = \"*\" * i\n",
    "    print(s.rjust(n)) # rjust 문자열 오른쪽 정렬\n",
    "# # # # # # # # # # # # # # # # # # # # # # # # # # # # # # # # \n",
    "# 2439 별 찍기 - 2_반복문\n",
    "import sys\n",
    "input = sys.stdin.readline\n",
    "\n",
    "n = int(input())\n",
    "for i in range(1, n+1):\n",
    "    for _ in range(1, n-i+1):\n",
    "        print(\" \", end=\"\")\n",
    "    print(\"*\" * i)\n",
    "# # # # # # # # # # # # # # # # # # # # # # # # # # # # # # # # "
   ]
  }
 ],
 "metadata": {
  "kernelspec": {
   "display_name": "Python 3",
   "language": "python",
   "name": "python3"
  },
  "language_info": {
   "codemirror_mode": {
    "name": "ipython",
    "version": 3
   },
   "file_extension": ".py",
   "mimetype": "text/x-python",
   "name": "python",
   "nbconvert_exporter": "python",
   "pygments_lexer": "ipython3",
   "version": "3.11.9"
  }
 },
 "nbformat": 4,
 "nbformat_minor": 2
}
