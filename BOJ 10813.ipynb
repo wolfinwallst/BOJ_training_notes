{
 "cells": [
  {
   "cell_type": "code",
   "execution_count": null,
   "metadata": {},
   "outputs": [],
   "source": [
    "# 10813 공 바꾸기_1D 배열\n",
    "import sys\n",
    "input = sys.stdin.readline\n",
    "\n",
    "n, m = map(int, input().split())\n",
    "arr = [i for i in range(1, n+1)]\n",
    "\n",
    "for _ in range(m):\n",
    "    i, j = map(int, input().split())\n",
    "    arr[i-1], arr[j-1] = arr[j-1], arr[i-1]\n",
    "\n",
    "for x in arr:\n",
    "    print(x, end=\" \")\n",
    "# # # # # # # # # # # # # # # # # # # # # # # # # # # # # # # # \n",
    "# 10813 공 바꾸기_1D 배열\n",
    "import sys\n",
    "input = sys.stdin.readline\n",
    "\n",
    "n, m = map(int, input().split())\n",
    "arr = [i for i in range(1, n+1)]\n",
    "\n",
    "for _ in range(m):\n",
    "    i, j = map(int, input().split())\n",
    "    tmp = arr[j-1]\n",
    "    arr[j-1] = arr[i-1]\n",
    "    arr[i-1] = tmp\n",
    "\n",
    "for x in arr:\n",
    "    print(x, end=\" \")\n"
   ]
  }
 ],
 "metadata": {
  "kernelspec": {
   "display_name": "Python 3",
   "language": "python",
   "name": "python3"
  },
  "language_info": {
   "codemirror_mode": {
    "name": "ipython",
    "version": 3
   },
   "file_extension": ".py",
   "mimetype": "text/x-python",
   "name": "python",
   "nbconvert_exporter": "python",
   "pygments_lexer": "ipython3",
   "version": "3.11.9"
  }
 },
 "nbformat": 4,
 "nbformat_minor": 2
}
